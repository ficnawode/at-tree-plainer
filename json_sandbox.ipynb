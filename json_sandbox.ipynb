{
 "cells": [
  {
   "cell_type": "code",
   "execution_count": 1,
   "metadata": {},
   "outputs": [],
   "source": [
    "import json\n",
    "\n",
    "def load_json_file(path_to_json_file:     str) -> dict:\n",
    "    with open(path_to_json_file, \"r\") as infile:\n",
    "        return json.load(infile)\n",
    "\n",
    "def save_json_file(data: dict, path_to_json_file: str):\n",
    "    with open(path_to_json_file, 'w') as outfile:\n",
    "        json.dump(data, outfile)\n"
   ]
  },
  {
   "cell_type": "code",
   "execution_count": 2,
   "metadata": {},
   "outputs": [],
   "source": [
    "example_config= {\n",
    "    \"branches\":\n",
    "        {\"RecEventHeader\":{\"vars\":[\"M\"],\"type\":\"EventHeader\"}}\n",
    "}\n",
    "save_json_file(example_config, \"example_config.json\")"
   ]
  },
  {
   "cell_type": "code",
   "execution_count": null,
   "metadata": {},
   "outputs": [],
   "source": []
  }
 ],
 "metadata": {
  "kernelspec": {
   "display_name": "cbm23",
   "language": "python",
   "name": "python3"
  },
  "language_info": {
   "codemirror_mode": {
    "name": "ipython",
    "version": 3
   },
   "file_extension": ".py",
   "mimetype": "text/x-python",
   "name": "python",
   "nbconvert_exporter": "python",
   "pygments_lexer": "ipython3",
   "version": "3.8.17"
  },
  "orig_nbformat": 4
 },
 "nbformat": 4,
 "nbformat_minor": 2
}
